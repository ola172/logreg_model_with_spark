{
 "cells": [
  {
   "cell_type": "markdown",
   "id": "989c4ad5",
   "metadata": {},
   "source": [
    "# subscribed a deposit with LogisticRegression\n"
   ]
  },
  {
   "cell_type": "code",
   "execution_count": 224,
   "id": "860791ce",
   "metadata": {},
   "outputs": [],
   "source": [
    "import findspark\n",
    "findspark.init() "
   ]
  },
  {
   "cell_type": "code",
   "execution_count": 225,
   "id": "f79dffc1",
   "metadata": {},
   "outputs": [],
   "source": [
    "import pyspark\n",
    "from pyspark.sql import SparkSession\n",
    "spark= SparkSession.builder.getOrCreate()"
   ]
  },
  {
   "cell_type": "markdown",
   "id": "731846b8",
   "metadata": {},
   "source": [
    "## read file"
   ]
  },
  {
   "cell_type": "code",
   "execution_count": 226,
   "id": "3c25d72e",
   "metadata": {},
   "outputs": [],
   "source": [
    "df =spark.read.csv('bank-full.csv', header=True, inferSchema=True)"
   ]
  },
  {
   "cell_type": "code",
   "execution_count": 227,
   "id": "58a5d22f",
   "metadata": {},
   "outputs": [
    {
     "name": "stdout",
     "output_type": "stream",
     "text": [
      "root\n",
      " |-- age: integer (nullable = true)\n",
      " |-- job: string (nullable = true)\n",
      " |-- marital: string (nullable = true)\n",
      " |-- education: string (nullable = true)\n",
      " |-- default: string (nullable = true)\n",
      " |-- balance: integer (nullable = true)\n",
      " |-- housing: string (nullable = true)\n",
      " |-- loan: string (nullable = true)\n",
      " |-- contact: string (nullable = true)\n",
      " |-- day: integer (nullable = true)\n",
      " |-- month: string (nullable = true)\n",
      " |-- duration: integer (nullable = true)\n",
      " |-- campaign: integer (nullable = true)\n",
      " |-- pdays: integer (nullable = true)\n",
      " |-- previous: integer (nullable = true)\n",
      " |-- poutcome: string (nullable = true)\n",
      " |-- Target: string (nullable = true)\n",
      "\n"
     ]
    }
   ],
   "source": [
    "df.printSchema()"
   ]
  },
  {
   "cell_type": "code",
   "execution_count": 228,
   "id": "ad6241b5",
   "metadata": {},
   "outputs": [
    {
     "name": "stdout",
     "output_type": "stream",
     "text": [
      "+---+---+-------+---------+-------+-------+-------+----+-------+---+-----+--------+--------+-----+--------+--------+------+\n",
      "|age|job|marital|education|default|balance|housing|loan|contact|day|month|duration|campaign|pdays|previous|poutcome|Target|\n",
      "+---+---+-------+---------+-------+-------+-------+----+-------+---+-----+--------+--------+-----+--------+--------+------+\n",
      "|  0|  0|      0|        0|      0|      0|      0|   0|      0|  0|    0|       0|       0|    0|       0|       0|     0|\n",
      "+---+---+-------+---------+-------+-------+-------+----+-------+---+-----+--------+--------+-----+--------+--------+------+\n",
      "\n"
     ]
    }
   ],
   "source": [
    "# Find Count of Null, None, NaN of All DataFrame Columns\n",
    "from pyspark.sql.functions import col,isnan, when, count\n",
    "df.select([count(when(isnan(c) | col(c).isNull(), c)).alias(c) for c in df.columns]\n",
    "   ).show()"
   ]
  },
  {
   "cell_type": "markdown",
   "id": "3e41274d",
   "metadata": {},
   "source": [
    "Input variables:\n",
    "   # bank client data:\n",
    "   1 - age (numeric)\n",
    "   \n",
    "   2 - job : type of job (categorical: \"admin.\",\"unknown\",\"unemployed\",\"management\",\"housemaid\",\"entrepreneur\",\"student\",\n",
    "                                       \"blue-collar\",\"self-employed\",\"retired\",\"technician\",\"services\")\n",
    "                                       \n",
    "   3 - marital : marital status (categorical: \"married\",\"divorced\",\"single\"; note: \"divorced\" means divorced or widowed)\n",
    "   \n",
    "   4 - education (categorical: \"unknown\",\"secondary\",\"primary\",\"tertiary\")\n",
    "   \n",
    "   5 - default: has credit in default? (binary: \"yes\",\"no\")\n",
    "   \n",
    "   6 - balance: average yearly balance, in euros (numeric)\n",
    "   \n",
    "   7 - housing: has housing loan? (binary: \"yes\",\"no\")\n",
    "   \n",
    "   8 - loan: has personal loan? (binary: \"yes\",\"no\")\n",
    "   # related with the last contact of the current campaign:\n",
    "   9 - contact: contact communication type (categorical: \"unknown\",\"telephone\",\"cellular\")\n",
    "   \n",
    "  10 - day: last contact day of the month (numeric)\n",
    "  \n",
    "  11 - month: last contact month of year (categorical: \"jan\", \"feb\", \"mar\", ..., \"nov\", \"dec\")\n",
    "  \n",
    "  12 - duration: last contact duration, in seconds (numeric)\n",
    "   # other attributes:\n",
    "  13 - campaign: number of contacts performed during this campaign and for this client (numeric, includes last contact)\n",
    "  \n",
    "  14 - pdays: number of days that passed by after the client was last contacted from a previous campaign (numeric, -1 means client was not previously contacted)\n",
    "  \n",
    "  15 - previous: number of contacts performed before this campaign and for this client (numeric)\n",
    "  \n",
    "  16 - poutcome: outcome of the previous marketing campaign (categorical: \"unknown\",\"other\",\"failure\",\"success\")\n",
    "\n",
    "  Output variable (desired target):\n",
    "  17 - y - has the client subscribed a term deposit? (binary: \"yes\",\"no\")"
   ]
  },
  {
   "cell_type": "markdown",
   "id": "70b8cc9a",
   "metadata": {},
   "source": [
    "## indexing the output"
   ]
  },
  {
   "cell_type": "code",
   "execution_count": 229,
   "id": "8a1c5b7f",
   "metadata": {},
   "outputs": [],
   "source": [
    "from pyspark.ml.feature import StringIndexer, OneHotEncoder, VectorAssembler "
   ]
  },
  {
   "cell_type": "code",
   "execution_count": 230,
   "id": "32f17143",
   "metadata": {},
   "outputs": [],
   "source": [
    "indexer = StringIndexer(inputCol='Target', outputCol='TargetOHE')"
   ]
  },
  {
   "cell_type": "code",
   "execution_count": 231,
   "id": "9dc04091",
   "metadata": {},
   "outputs": [],
   "source": [
    "indexer_fitted = indexer.fit(df)"
   ]
  },
  {
   "cell_type": "code",
   "execution_count": 232,
   "id": "2e21b15a",
   "metadata": {},
   "outputs": [],
   "source": [
    "df = indexer_fitted.transform(df)\n"
   ]
  },
  {
   "cell_type": "code",
   "execution_count": 233,
   "id": "d3170d60",
   "metadata": {},
   "outputs": [
    {
     "name": "stdout",
     "output_type": "stream",
     "text": [
      "+---+------------+-------+---------+-------+-------+-------+----+-------+---+-----+--------+--------+-----+--------+--------+------+---------+\n",
      "|age|         job|marital|education|default|balance|housing|loan|contact|day|month|duration|campaign|pdays|previous|poutcome|Target|TargetOHE|\n",
      "+---+------------+-------+---------+-------+-------+-------+----+-------+---+-----+--------+--------+-----+--------+--------+------+---------+\n",
      "| 58|  management|married| tertiary|     no|   2143|    yes|  no|unknown|  5|  may|     261|       1|   -1|       0| unknown|    no|      0.0|\n",
      "| 44|  technician| single|secondary|     no|     29|    yes|  no|unknown|  5|  may|     151|       1|   -1|       0| unknown|    no|      0.0|\n",
      "| 33|entrepreneur|married|secondary|     no|      2|    yes| yes|unknown|  5|  may|      76|       1|   -1|       0| unknown|    no|      0.0|\n",
      "| 47| blue-collar|married|  unknown|     no|   1506|    yes|  no|unknown|  5|  may|      92|       1|   -1|       0| unknown|    no|      0.0|\n",
      "| 33|     unknown| single|  unknown|     no|      1|     no|  no|unknown|  5|  may|     198|       1|   -1|       0| unknown|    no|      0.0|\n",
      "+---+------------+-------+---------+-------+-------+-------+----+-------+---+-----+--------+--------+-----+--------+--------+------+---------+\n",
      "only showing top 5 rows\n",
      "\n"
     ]
    }
   ],
   "source": [
    "df.show(5)"
   ]
  },
  {
   "cell_type": "markdown",
   "id": "3788a7d8",
   "metadata": {},
   "source": [
    "## split data to train and test\n"
   ]
  },
  {
   "cell_type": "code",
   "execution_count": 234,
   "id": "24af6beb",
   "metadata": {},
   "outputs": [],
   "source": [
    "trainDF, testDF= df.randomSplit([0.8,0.2], seed= 42)"
   ]
  },
  {
   "cell_type": "code",
   "execution_count": 235,
   "id": "8c4e93e2",
   "metadata": {},
   "outputs": [
    {
     "name": "stdout",
     "output_type": "stream",
     "text": [
      "root\n",
      " |-- age: integer (nullable = true)\n",
      " |-- job: string (nullable = true)\n",
      " |-- marital: string (nullable = true)\n",
      " |-- education: string (nullable = true)\n",
      " |-- default: string (nullable = true)\n",
      " |-- balance: integer (nullable = true)\n",
      " |-- housing: string (nullable = true)\n",
      " |-- loan: string (nullable = true)\n",
      " |-- contact: string (nullable = true)\n",
      " |-- day: integer (nullable = true)\n",
      " |-- month: string (nullable = true)\n",
      " |-- duration: integer (nullable = true)\n",
      " |-- campaign: integer (nullable = true)\n",
      " |-- pdays: integer (nullable = true)\n",
      " |-- previous: integer (nullable = true)\n",
      " |-- poutcome: string (nullable = true)\n",
      " |-- Target: string (nullable = true)\n",
      " |-- TargetOHE: double (nullable = false)\n",
      "\n"
     ]
    }
   ],
   "source": [
    "trainDF.printSchema()"
   ]
  },
  {
   "cell_type": "markdown",
   "id": "d9a11560",
   "metadata": {},
   "source": [
    "## OneHotEncoding\n"
   ]
  },
  {
   "cell_type": "code",
   "execution_count": 236,
   "id": "036f4a4e",
   "metadata": {},
   "outputs": [
    {
     "data": {
      "text/plain": [
       "['job',\n",
       " 'marital',\n",
       " 'education',\n",
       " 'default',\n",
       " 'housing',\n",
       " 'loan',\n",
       " 'contact',\n",
       " 'month',\n",
       " 'poutcome']"
      ]
     },
     "execution_count": 236,
     "metadata": {},
     "output_type": "execute_result"
    }
   ],
   "source": [
    "#extract the categorical columns using list comprehension\n",
    "CatCols= [c for (c,d) in trainDF.dtypes if ((d=='string') and c !='Target')]\n",
    "CatCols"
   ]
  },
  {
   "cell_type": "code",
   "execution_count": 237,
   "id": "7ae073da",
   "metadata": {},
   "outputs": [
    {
     "data": {
      "text/plain": [
       "['jobIndex',\n",
       " 'maritalIndex',\n",
       " 'educationIndex',\n",
       " 'defaultIndex',\n",
       " 'housingIndex',\n",
       " 'loanIndex',\n",
       " 'contactIndex',\n",
       " 'monthIndex',\n",
       " 'poutcomeIndex']"
      ]
     },
     "execution_count": 237,
     "metadata": {},
     "output_type": "execute_result"
    }
   ],
   "source": [
    "indCols= [c+ \"Index\" for c in CatCols]\n",
    "indCols "
   ]
  },
  {
   "cell_type": "code",
   "execution_count": 238,
   "id": "e53b2d82",
   "metadata": {},
   "outputs": [
    {
     "data": {
      "text/plain": [
       "['jobOHE',\n",
       " 'maritalOHE',\n",
       " 'educationOHE',\n",
       " 'defaultOHE',\n",
       " 'housingOHE',\n",
       " 'loanOHE',\n",
       " 'contactOHE',\n",
       " 'monthOHE',\n",
       " 'poutcomeOHE']"
      ]
     },
     "execution_count": 238,
     "metadata": {},
     "output_type": "execute_result"
    }
   ],
   "source": [
    "oheCols= [c+ \"OHE\" for c in CatCols]\n",
    "oheCols"
   ]
  },
  {
   "cell_type": "code",
   "execution_count": 239,
   "id": "59b8bf89",
   "metadata": {},
   "outputs": [],
   "source": [
    "StrInd= StringIndexer(inputCols= CatCols, outputCols=indCols)"
   ]
  },
  {
   "cell_type": "code",
   "execution_count": 240,
   "id": "b118d963",
   "metadata": {},
   "outputs": [],
   "source": [
    "oheEncoder= OneHotEncoder(inputCols= indCols, outputCols=oheCols)"
   ]
  },
  {
   "cell_type": "code",
   "execution_count": 241,
   "id": "58195d67",
   "metadata": {},
   "outputs": [
    {
     "data": {
      "text/plain": [
       "['age', 'balance', 'day', 'duration', 'campaign', 'pdays', 'previous']"
      ]
     },
     "execution_count": 241,
     "metadata": {},
     "output_type": "execute_result"
    }
   ],
   "source": [
    "numericCols= [c for (c,d) in trainDF.dtypes if (d=='int')]\n",
    "numericCols"
   ]
  },
  {
   "cell_type": "code",
   "execution_count": 242,
   "id": "d6cf524b",
   "metadata": {},
   "outputs": [
    {
     "data": {
      "text/plain": [
       "['jobOHE',\n",
       " 'maritalOHE',\n",
       " 'educationOHE',\n",
       " 'defaultOHE',\n",
       " 'housingOHE',\n",
       " 'loanOHE',\n",
       " 'contactOHE',\n",
       " 'monthOHE',\n",
       " 'poutcomeOHE',\n",
       " 'age',\n",
       " 'balance',\n",
       " 'day',\n",
       " 'duration',\n",
       " 'campaign',\n",
       " 'pdays',\n",
       " 'previous']"
      ]
     },
     "execution_count": 242,
     "metadata": {},
     "output_type": "execute_result"
    }
   ],
   "source": [
    "assemblerCols= oheCols + numericCols # kol el coloums\n",
    "assemblerCols"
   ]
  },
  {
   "cell_type": "code",
   "execution_count": 243,
   "id": "43d74f1e",
   "metadata": {},
   "outputs": [],
   "source": [
    "VecAssembler = VectorAssembler(inputCols=assemblerCols, outputCol='features') \n"
   ]
  },
  {
   "cell_type": "markdown",
   "id": "9c0d41c9",
   "metadata": {},
   "source": [
    "## Create model "
   ]
  },
  {
   "cell_type": "code",
   "execution_count": 244,
   "id": "c600f35d",
   "metadata": {},
   "outputs": [],
   "source": [
    "from pyspark.ml.classification import LogisticRegression"
   ]
  },
  {
   "cell_type": "code",
   "execution_count": 245,
   "id": "73320626",
   "metadata": {},
   "outputs": [],
   "source": [
    "logreg = LogisticRegression(featuresCol='features',labelCol='TargetOHE')"
   ]
  },
  {
   "cell_type": "code",
   "execution_count": 246,
   "id": "fdc071ca",
   "metadata": {},
   "outputs": [],
   "source": [
    "from pyspark.ml import Pipeline\n",
    "pipeline_LogReg= Pipeline(stages= [StrInd,oheEncoder,VecAssembler,logreg])"
   ]
  },
  {
   "cell_type": "code",
   "execution_count": 247,
   "id": "5a0c6647",
   "metadata": {},
   "outputs": [],
   "source": [
    "pipeline_LogReg_model=pipeline_LogReg.fit(trainDF)"
   ]
  },
  {
   "cell_type": "code",
   "execution_count": 248,
   "id": "a90028d2",
   "metadata": {},
   "outputs": [],
   "source": [
    "predDF_LogReg = pipeline_LogReg_model.transform(testDF)"
   ]
  },
  {
   "cell_type": "code",
   "execution_count": 249,
   "id": "7e1fdb5d",
   "metadata": {},
   "outputs": [
    {
     "name": "stdout",
     "output_type": "stream",
     "text": [
      "root\n",
      " |-- age: integer (nullable = true)\n",
      " |-- job: string (nullable = true)\n",
      " |-- marital: string (nullable = true)\n",
      " |-- education: string (nullable = true)\n",
      " |-- default: string (nullable = true)\n",
      " |-- balance: integer (nullable = true)\n",
      " |-- housing: string (nullable = true)\n",
      " |-- loan: string (nullable = true)\n",
      " |-- contact: string (nullable = true)\n",
      " |-- day: integer (nullable = true)\n",
      " |-- month: string (nullable = true)\n",
      " |-- duration: integer (nullable = true)\n",
      " |-- campaign: integer (nullable = true)\n",
      " |-- pdays: integer (nullable = true)\n",
      " |-- previous: integer (nullable = true)\n",
      " |-- poutcome: string (nullable = true)\n",
      " |-- Target: string (nullable = true)\n",
      " |-- TargetOHE: double (nullable = false)\n",
      " |-- defaultIndex: double (nullable = false)\n",
      " |-- loanIndex: double (nullable = false)\n",
      " |-- monthIndex: double (nullable = false)\n",
      " |-- poutcomeIndex: double (nullable = false)\n",
      " |-- educationIndex: double (nullable = false)\n",
      " |-- contactIndex: double (nullable = false)\n",
      " |-- maritalIndex: double (nullable = false)\n",
      " |-- jobIndex: double (nullable = false)\n",
      " |-- housingIndex: double (nullable = false)\n",
      " |-- maritalOHE: vector (nullable = true)\n",
      " |-- defaultOHE: vector (nullable = true)\n",
      " |-- jobOHE: vector (nullable = true)\n",
      " |-- contactOHE: vector (nullable = true)\n",
      " |-- loanOHE: vector (nullable = true)\n",
      " |-- educationOHE: vector (nullable = true)\n",
      " |-- poutcomeOHE: vector (nullable = true)\n",
      " |-- monthOHE: vector (nullable = true)\n",
      " |-- housingOHE: vector (nullable = true)\n",
      " |-- features: vector (nullable = true)\n",
      " |-- rawPrediction: vector (nullable = true)\n",
      " |-- probability: vector (nullable = true)\n",
      " |-- prediction: double (nullable = false)\n",
      "\n"
     ]
    }
   ],
   "source": [
    "predDF_LogReg.printSchema()"
   ]
  },
  {
   "cell_type": "code",
   "execution_count": 250,
   "id": "b4a6d8bb",
   "metadata": {},
   "outputs": [
    {
     "name": "stdout",
     "output_type": "stream",
     "text": [
      "+---------+----------+\n",
      "|TargetOHE|prediction|\n",
      "+---------+----------+\n",
      "|      0.0|       0.0|\n",
      "|      0.0|       0.0|\n",
      "|      1.0|       1.0|\n",
      "|      0.0|       0.0|\n",
      "|      1.0|       1.0|\n",
      "|      0.0|       0.0|\n",
      "|      1.0|       0.0|\n",
      "|      0.0|       0.0|\n",
      "|      0.0|       0.0|\n",
      "|      0.0|       0.0|\n",
      "|      0.0|       0.0|\n",
      "|      0.0|       0.0|\n",
      "|      0.0|       0.0|\n",
      "|      1.0|       0.0|\n",
      "|      0.0|       0.0|\n",
      "|      0.0|       0.0|\n",
      "|      0.0|       0.0|\n",
      "|      0.0|       0.0|\n",
      "|      0.0|       0.0|\n",
      "|      1.0|       0.0|\n",
      "+---------+----------+\n",
      "only showing top 20 rows\n",
      "\n"
     ]
    }
   ],
   "source": [
    "predDF_LogReg.select('TargetOHE','prediction').show()"
   ]
  },
  {
   "cell_type": "markdown",
   "id": "7b809a04",
   "metadata": {},
   "source": [
    "### Make model evaluation \n"
   ]
  },
  {
   "cell_type": "code",
   "execution_count": 251,
   "id": "f74cd9de",
   "metadata": {},
   "outputs": [
    {
     "name": "stdout",
     "output_type": "stream",
     "text": [
      "Test Error = 0.096817 \n",
      "Test accuracy = 0.903183 \n"
     ]
    }
   ],
   "source": [
    "from pyspark.ml.evaluation import MulticlassClassificationEvaluator\n",
    "evaluator = MulticlassClassificationEvaluator(\n",
    "    labelCol=\"TargetOHE\", predictionCol=\"prediction\", metricName=\"accuracy\")\n",
    "accuracy = evaluator.evaluate(predDF_LogReg)\n",
    "print(\"Test Error = %g \" % (1.0 - accuracy))\n",
    "print(\"Test accuracy = %g \" % (accuracy))"
   ]
  },
  {
   "cell_type": "markdown",
   "id": "3263338c",
   "metadata": {},
   "source": [
    "### Save Model"
   ]
  },
  {
   "cell_type": "code",
   "execution_count": 269,
   "id": "06d6a113",
   "metadata": {},
   "outputs": [],
   "source": [
    "pipeline_LogReg_model.save('Untitled Folder 2')"
   ]
  },
  {
   "cell_type": "code",
   "execution_count": 270,
   "id": "e4a26bf7",
   "metadata": {},
   "outputs": [],
   "source": [
    "pipeline_LogReg_model.write().overwrite().save('pipeline_LogReg_model')"
   ]
  },
  {
   "cell_type": "code",
   "execution_count": null,
   "id": "aaa0c449",
   "metadata": {},
   "outputs": [],
   "source": []
  },
  {
   "cell_type": "code",
   "execution_count": null,
   "id": "45f61724",
   "metadata": {},
   "outputs": [],
   "source": []
  },
  {
   "cell_type": "code",
   "execution_count": null,
   "id": "0b9de90a",
   "metadata": {},
   "outputs": [],
   "source": []
  }
 ],
 "metadata": {
  "kernelspec": {
   "display_name": "Python 3 (ipykernel)",
   "language": "python",
   "name": "python3"
  },
  "language_info": {
   "codemirror_mode": {
    "name": "ipython",
    "version": 3
   },
   "file_extension": ".py",
   "mimetype": "text/x-python",
   "name": "python",
   "nbconvert_exporter": "python",
   "pygments_lexer": "ipython3",
   "version": "3.9.7"
  }
 },
 "nbformat": 4,
 "nbformat_minor": 5
}
